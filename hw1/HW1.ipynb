{
 "cells": [
  {
   "cell_type": "markdown",
   "id": "b42771b4",
   "metadata": {},
   "source": [
    "# HW1: Diana Esaian"
   ]
  },
  {
   "cell_type": "code",
   "execution_count": 1,
   "id": "d252204e",
   "metadata": {},
   "outputs": [],
   "source": [
    "import csv\n",
    "import re\n",
    "import os"
   ]
  },
  {
   "cell_type": "code",
   "execution_count": 2,
   "id": "0d3510d4",
   "metadata": {},
   "outputs": [
    {
     "name": "stdout",
     "output_type": "stream",
     "text": [
      "\r",
      "  0% [                                                              ]   0 / 287\r",
      "100% [..............................................................] 287 / 287\r\n",
      "Saved under coursera_week3_cars (4).csv\r\n"
     ]
    }
   ],
   "source": [
    "!python -m wget https://gist.githubusercontent.com/NooblyRand0m/404c8a252f89862654c3fa6bba3d8bc3/raw/26c97aa3876ef33f3509e3b1209402c5c138f06c/coursera_week3_cars.csv"
   ]
  },
  {
   "cell_type": "code",
   "execution_count": 3,
   "id": "bc13dff3",
   "metadata": {},
   "outputs": [
    {
     "name": "stdout",
     "output_type": "stream",
     "text": [
      "car_type;brand;passenger_seats_count;photo_file_name;body_whl;carrying;extra\r\n",
      "car;Nissan xTtrail;4;f1.jpeg;;2.5;\r\n",
      "truck;Man;;f2.png;8x3x2.5;20;\r\n",
      "truck;Man;;f2.png;;20;\r\n",
      "car;Mazda 6;4;f3.jpeg;;2.5;\r\n",
      ";;;\r\n",
      "spec_machine;Hitachi;;f4;;1.2;Легкая техника для уборки снега\r\n",
      "\r\n"
     ]
    }
   ],
   "source": [
    "!head coursera_week3_cars.csv"
   ]
  },
  {
   "cell_type": "code",
   "execution_count": 31,
   "id": "0cec6661",
   "metadata": {},
   "outputs": [],
   "source": [
    "csv_filename = 'coursera_week3_cars.csv'"
   ]
  },
  {
   "cell_type": "code",
   "execution_count": 4,
   "id": "d8b16c93",
   "metadata": {},
   "outputs": [],
   "source": [
    "allowed_ext = ['.jpg', '.jpeg', '.png', '.gif']\n",
    "all_car_types = ['car', 'truck', 'spec_machine']"
   ]
  },
  {
   "cell_type": "code",
   "execution_count": 42,
   "id": "f62f0085",
   "metadata": {},
   "outputs": [],
   "source": [
    "class CarBase:\n",
    "    \n",
    "    def __init__(self, brand:str, photo_file_name:str, carrying:float):\n",
    "        car_type = r\"car|truck|spec_machine\"\n",
    "        self.brand = brand\n",
    "        self.photo_file_name = photo_file_name\n",
    "        def get_photo_file_ext(self):\n",
    "            return os.path.splitext(self.photo_file_name)[1]\n",
    "        if get_photo_file_ext(self) not in allowed_ext:\n",
    "            raise ValueError('Wrong file extension. Suitable extensions: .jpg, .jpeg, .png, .gif')\n",
    "        self.carrying = float(carrying)\n",
    "        \n",
    "    def get_photo_file_ext(self):\n",
    "        return os.path.splitext(self.photo_file_name)[1]\n",
    "\n",
    "        \n",
    "class Car(CarBase):\n",
    "    def __init__(self, brand:str, photo_file_name:str, carrying:float, passenger_seats_count:int):\n",
    "        self.car_type = \"car\"\n",
    "        super(Car, self).__init__(brand, photo_file_name, carrying)\n",
    "        self.passenger_seats_count = int(passenger_seats_count)\n",
    "        if self.passenger_seats_count > 8 and self.passenger_seats_count < 2: #вместимость легкового автомобиля:  2 - 8 человек\n",
    "            raise ValueError('Cars have up to 8 seats, consider Truck or SpecMachine') \n",
    "            \n",
    "    def get_photo_file_ext(self):      \n",
    "      return super().get_photo_file_ext()\n",
    "\n",
    "\n",
    "class Truck(CarBase):\n",
    "    def __init__(self, brand:str, photo_file_name:str, carrying:int, body_whl:int):\n",
    "        self.car_type = \"truck\"\n",
    "        super(Truck, self).__init__(brand, photo_file_name, carrying)\n",
    "        self.body_whl = body_whl\n",
    "        try:\n",
    "            self.body_length = float(self.body_whl.split('x')[0])\n",
    "            self.body_width = float(self.body_whl.split('x')[1])\n",
    "            self.body_height = float(self.body_whl.split('x')[2])\n",
    "        except:\n",
    "            self.body_length = 0\n",
    "            self.body_width = 0\n",
    "            self.body_height = 0\n",
    "\n",
    "    def get_body_volume(self):\n",
    "        return self.body_length * self.body_width * self.body_height\n",
    "    \n",
    "    def get_photo_file_ext(self):      \n",
    "      return super().get_photo_file_ext()\n",
    "\n",
    "    \n",
    "class SpecMachine(CarBase):\n",
    "    def __init__(self, brand:str, photo_file_name:str, carrying:float, extra:str):\n",
    "        self.car_type = \"spec_machine\"\n",
    "        super(SpecMachine, self).__init__(brand, photo_file_name, carrying)\n",
    "        self.extra = extra\n",
    "    \n",
    "    def get_photo_file_ext(self):      \n",
    "      return super().get_photo_file_ext()"
   ]
  },
  {
   "cell_type": "code",
   "execution_count": 43,
   "id": "d1c6432e",
   "metadata": {},
   "outputs": [],
   "source": [
    "def get_car_list(csv_filename):\n",
    "    car_list =[]\n",
    "    with open(csv_filename) as csv_fd:\n",
    "        reader = csv.reader(csv_fd, delimiter=';')\n",
    "        next(reader)  \n",
    "        for row in reader:\n",
    "            try:\n",
    "                if row[0] == \"car\" and row[0:4] != None and row[5] != None:\n",
    "                    try:\n",
    "                        car = Car(brand = row[1], passenger_seats_count = row[2], photo_file_name = row[3], carrying = row[5])\n",
    "                        car_list.append(car)\n",
    "                    except:\n",
    "                        pass\n",
    "                elif row[0] == \"truck\":\n",
    "                    if row[0:2] != None and row[3:6] != None:\n",
    "                        try:\n",
    "                            truck = Truck(brand = row[1], photo_file_name = row [3], body_whl = row[4], carrying = row[5])\n",
    "                            car_list.append(truck)\n",
    "                        except:\n",
    "                            pass\n",
    "                elif row[0] == \"spec_machine\" and row[0:2] != None and row[3] != None and row[6] != None :\n",
    "                    try:\n",
    "                        spec = SpecMachine(brand = row[1], photo_file_name = row[3], carrying = row[5], extra = row[6])\n",
    "                        car_list.append(spec)\n",
    "                    except:\n",
    "                        pass\n",
    "            except:\n",
    "                pass\n",
    "\n",
    "    return car_list"
   ]
  },
  {
   "cell_type": "markdown",
   "id": "9d150984",
   "metadata": {},
   "source": [
    "## Базовые проверки"
   ]
  },
  {
   "cell_type": "code",
   "execution_count": 44,
   "id": "e87d1c2b",
   "metadata": {},
   "outputs": [
    {
     "name": "stdout",
     "output_type": "stream",
     "text": [
      "car\n",
      "Bugatti Veyron\n",
      "bugatti.png\n",
      "0.312\n",
      "2\n"
     ]
    }
   ],
   "source": [
    "car = Car('Bugatti Veyron', 'bugatti.png', '0.312', '2')\n",
    "print(car.car_type, car.brand, car.photo_file_name, car.carrying, car.passenger_seats_count, sep='\\n')\n",
    "# car\n",
    "# Bugatti Veyron\n",
    "# bugatti.png\n",
    "# 0.312\n",
    "# 2"
   ]
  },
  {
   "cell_type": "code",
   "execution_count": 45,
   "id": "ec2e04f3",
   "metadata": {},
   "outputs": [
    {
     "name": "stdout",
     "output_type": "stream",
     "text": [
      "truck\n",
      "Nissan\n",
      "nissan.jpeg\n",
      "3.92\n",
      "2.09\n",
      "1.87\n"
     ]
    }
   ],
   "source": [
    "truck = Truck('Nissan', 'nissan.jpeg', '1.5', '3.92x2.09x1.87')\n",
    "print(truck.car_type, truck.brand, truck.photo_file_name, truck.body_length, truck.body_width, truck.body_height, sep='\\n')\n",
    "# truck\n",
    "# Nissan\n",
    "# nissan.jpeg\n",
    "# 3.92\n",
    "# 2.09\n",
    "# 1.87"
   ]
  },
  {
   "cell_type": "code",
   "execution_count": 46,
   "id": "1df7f311",
   "metadata": {},
   "outputs": [
    {
     "name": "stdout",
     "output_type": "stream",
     "text": [
      "spec_machine\n",
      "Komatsu-D355\n",
      "93.0\n",
      "d355.jpg\n",
      "pipelayer specs\n"
     ]
    }
   ],
   "source": [
    "spec_machine = SpecMachine('Komatsu-D355', 'd355.jpg', '93', 'pipelayer specs')\n",
    "print(spec_machine.car_type, spec_machine.brand, spec_machine.carrying, spec_machine.photo_file_name, spec_machine.extra, sep='\\n')\n",
    "# spec_machine\n",
    "# Komatsu-D355\n",
    "# 93.0\n",
    "# d355.jpg\n",
    "# pipelayer specs"
   ]
  },
  {
   "cell_type": "code",
   "execution_count": 47,
   "id": "08fb02e5",
   "metadata": {},
   "outputs": [
    {
     "data": {
      "text/plain": [
       "'.jpg'"
      ]
     },
     "execution_count": 47,
     "metadata": {},
     "output_type": "execute_result"
    }
   ],
   "source": [
    "spec_machine.get_photo_file_ext()\n",
    "# '.jpg'"
   ]
  },
  {
   "cell_type": "code",
   "execution_count": 48,
   "id": "e35b4b9a",
   "metadata": {},
   "outputs": [
    {
     "data": {
      "text/plain": [
       "4"
      ]
     },
     "execution_count": 48,
     "metadata": {},
     "output_type": "execute_result"
    }
   ],
   "source": [
    "cars = get_car_list(csv_filename)\n",
    "len(cars)\n",
    "# 4"
   ]
  },
  {
   "cell_type": "code",
   "execution_count": 49,
   "id": "2583211f",
   "metadata": {},
   "outputs": [
    {
     "data": {
      "text/plain": [
       "4"
      ]
     },
     "execution_count": 49,
     "metadata": {},
     "output_type": "execute_result"
    }
   ],
   "source": [
    "cars[0].passenger_seats_count\n",
    "# 4"
   ]
  },
  {
   "cell_type": "code",
   "execution_count": 50,
   "id": "bc31668d",
   "metadata": {},
   "outputs": [
    {
     "data": {
      "text/plain": [
       "60.0"
      ]
     },
     "execution_count": 50,
     "metadata": {},
     "output_type": "execute_result"
    }
   ],
   "source": [
    "cars[1].get_body_volume()\n",
    "# 60.0"
   ]
  }
 ],
 "metadata": {
  "kernelspec": {
   "display_name": "Python 3",
   "language": "python",
   "name": "python3"
  },
  "language_info": {
   "codemirror_mode": {
    "name": "ipython",
    "version": 3
   },
   "file_extension": ".py",
   "mimetype": "text/x-python",
   "name": "python",
   "nbconvert_exporter": "python",
   "pygments_lexer": "ipython3",
   "version": "3.8.8"
  }
 },
 "nbformat": 4,
 "nbformat_minor": 5
}
